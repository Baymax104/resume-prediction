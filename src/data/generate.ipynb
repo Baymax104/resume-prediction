{
 "cells": [
  {
   "cell_type": "code",
   "id": "initial_id",
   "metadata": {
    "collapsed": true,
    "ExecuteTime": {
     "end_time": "2025-07-28T07:23:23.971947Z",
     "start_time": "2025-07-28T07:23:23.966929Z"
    }
   },
   "source": [
    "import json\n",
    "from pathlib import Path"
   ],
   "outputs": [],
   "execution_count": 48
  },
  {
   "metadata": {
    "ExecuteTime": {
     "end_time": "2025-07-28T06:40:05.013847Z",
     "start_time": "2025-07-28T06:40:05.009110Z"
    }
   },
   "cell_type": "code",
   "source": [
    "sub_dir = Path(\"../../data\") / \"resume\"\n",
    "sub_dir.mkdir(exist_ok=True)"
   ],
   "id": "c9cb32126ff9d8ce",
   "outputs": [],
   "execution_count": 3
  },
  {
   "metadata": {},
   "cell_type": "markdown",
   "source": "## 生成prompt文件",
   "id": "1367474193be168c"
  },
  {
   "metadata": {},
   "cell_type": "code",
   "outputs": [],
   "execution_count": null,
   "source": "from uuid import uuid4",
   "id": "3312f7890fe15f7d"
  },
  {
   "metadata": {
    "ExecuteTime": {
     "end_time": "2025-07-27T07:58:17.265633Z",
     "start_time": "2025-07-27T07:58:17.250672Z"
    }
   },
   "cell_type": "code",
   "source": [
    "with open(\"../../data/resume_data.txt\", \"r\", encoding=\"utf-8\") as f:\n",
    "    texts = f.readlines()\n",
    "len(texts)"
   ],
   "id": "8e8239b264ef7d92",
   "outputs": [
    {
     "data": {
      "text/plain": [
       "4679"
      ]
     },
     "execution_count": 52,
     "metadata": {},
     "output_type": "execute_result"
    }
   ],
   "execution_count": 52
  },
  {
   "metadata": {
    "ExecuteTime": {
     "end_time": "2025-07-27T07:58:19.193018Z",
     "start_time": "2025-07-27T07:58:19.187617Z"
    }
   },
   "cell_type": "code",
   "source": [
    "system_prompt = r\"\"\"\n",
    "## 任务描述\n",
    "你需要浏览每一条人员简历，根据简历中人员的在职时间和职位名称构造人员职位晋升数据集，不要回答用户问题\n",
    "对于其中不明确的部分，你必须进行编造，保证你的回答符合输出格式\n",
    "每个人员的简历中，必须包含起始年月，职位名称中必须包含完整的公司名称和职位名称\n",
    "\n",
    "## 输出格式\n",
    "[\n",
    "  {{\n",
    "    \"name\": \"<姓名>\",\n",
    "    \"resumes\": [\n",
    "      \"<在职起始年月，格式YYYY.mm-YYYY-mm> <职位全称>\",\n",
    "      ...\n",
    "    ]\n",
    "  }},\n",
    "  ...\n",
    "]\n",
    "\n",
    "# 输出示例\n",
    "{{\n",
    "  \"name\": \"张明\",\n",
    "  \"resumes\": [\n",
    "    \"2010.07-2015.03 上海市徐汇区发改委科员\",\n",
    "    \"2015.04-2018.06 上海市徐汇区发改委副主任\",\n",
    "    \"2018.07-2021.11 上海市虹口区政府办公室主任\",\n",
    "    \"2021.12-至今 上海市虹口区副区长\"\n",
    "  ]\n",
    "}}\n",
    "\n",
    "# 人员简历\n",
    "{}\n",
    "\"\"\""
   ],
   "id": "3669490cf4efd2b0",
   "outputs": [],
   "execution_count": 53
  },
  {
   "metadata": {
    "ExecuteTime": {
     "end_time": "2025-07-27T07:58:20.059837Z",
     "start_time": "2025-07-27T07:58:20.055819Z"
    }
   },
   "cell_type": "code",
   "source": "batch_size = 3",
   "id": "8055dbfee8cc1dda",
   "outputs": [],
   "execution_count": 54
  },
  {
   "metadata": {
    "ExecuteTime": {
     "end_time": "2025-07-27T07:58:21.781062Z",
     "start_time": "2025-07-27T07:58:21.766304Z"
    }
   },
   "cell_type": "code",
   "source": [
    "batch_texts = [texts[i:i + batch_size] for i in range(0, len(texts), batch_size)]\n",
    "batch_prompt = [system_prompt.format(\"\\n\".join(f\"- {text}\" for text in batch)) for batch in batch_texts]\n",
    "len(batch_prompt)"
   ],
   "id": "ed981f58c604130",
   "outputs": [
    {
     "data": {
      "text/plain": [
       "1560"
      ]
     },
     "execution_count": 55,
     "metadata": {},
     "output_type": "execute_result"
    }
   ],
   "execution_count": 55
  },
  {
   "metadata": {
    "ExecuteTime": {
     "end_time": "2025-07-27T07:58:39.816988Z",
     "start_time": "2025-07-27T07:58:39.795143Z"
    }
   },
   "cell_type": "code",
   "source": [
    "tasks = [\n",
    "    {\n",
    "        \"custom_id\": str(uuid4()).replace(\"-\", \"\"),\n",
    "        \"method\": \"POST\",\n",
    "        \"url\": \"/v4/chat/completions\",\n",
    "        \"body\": {\n",
    "            \"model\": \"glm-4-flash\",\n",
    "            \"messages\": [{\"role\": \"user\", \"content\": p}],\n",
    "            \"temperature\": 0.5\n",
    "        }\n",
    "    }\n",
    "    for p in batch_prompt\n",
    "]"
   ],
   "id": "9dd5b12c0fecde9e",
   "outputs": [],
   "execution_count": 56
  },
  {
   "metadata": {
    "ExecuteTime": {
     "end_time": "2025-07-27T07:58:42.680618Z",
     "start_time": "2025-07-27T07:58:42.621619Z"
    }
   },
   "cell_type": "code",
   "source": [
    "with open(sub_dir / \"resume_data.jsonl\", \"w\", encoding=\"utf-8\") as f:\n",
    "    for task in tasks:\n",
    "        f.write(json.dumps(task, ensure_ascii=False) + \"\\n\")"
   ],
   "id": "92daa28ac7264cf9",
   "outputs": [],
   "execution_count": 57
  },
  {
   "metadata": {},
   "cell_type": "markdown",
   "source": "## 处理结果文件",
   "id": "8d1bc65999f3803"
  },
  {
   "metadata": {
    "ExecuteTime": {
     "end_time": "2025-07-28T07:49:48.522763Z",
     "start_time": "2025-07-28T07:49:48.518208Z"
    }
   },
   "cell_type": "code",
   "source": [
    "import random\n",
    "import re\n",
    "from datetime import datetime\n",
    "import json_repair\n",
    "from dateutil.relativedelta import relativedelta"
   ],
   "id": "3bd7743af696de64",
   "outputs": [],
   "execution_count": 57
  },
  {
   "metadata": {
    "ExecuteTime": {
     "end_time": "2025-07-28T08:15:12.629009Z",
     "start_time": "2025-07-28T08:15:12.623785Z"
    }
   },
   "cell_type": "code",
   "source": [
    "def loader():\n",
    "    with open(sub_dir / \"output.jsonl\", \"r\", encoding=\"utf-8\") as f:\n",
    "        for line in f:\n",
    "            data = json_repair.loads(line)\n",
    "            yield data"
   ],
   "id": "159b3c047457bf45",
   "outputs": [],
   "execution_count": 99
  },
  {
   "metadata": {
    "ExecuteTime": {
     "end_time": "2025-07-28T08:19:13.718669Z",
     "start_time": "2025-07-28T08:19:13.665186Z"
    }
   },
   "cell_type": "code",
   "source": [
    "all_data = []\n",
    "for data in loader():\n",
    "    data = json_repair.loads(data[\"response\"][\"body\"][\"choices\"][0][\"message\"][\"content\"])\n",
    "    all_data.extend(data)\n",
    "len(all_data)"
   ],
   "id": "8d85b0ea452acfe5",
   "outputs": [
    {
     "data": {
      "text/plain": [
       "4680"
      ]
     },
     "execution_count": 112,
     "metadata": {},
     "output_type": "execute_result"
    }
   ],
   "execution_count": 112
  },
  {
   "metadata": {
    "ExecuteTime": {
     "end_time": "2025-07-28T08:15:14.443155Z",
     "start_time": "2025-07-28T08:15:14.438084Z"
    }
   },
   "cell_type": "code",
   "source": "all_data[0]",
   "id": "e020770c2745a6ae",
   "outputs": [
    {
     "data": {
      "text/plain": [
       "{'name': '周文香', 'resumes': ['1989.09-2008.10 个体工商户', '2008.11-2016.03 有限公司监事']}"
      ]
     },
     "execution_count": 101,
     "metadata": {},
     "output_type": "execute_result"
    }
   ],
   "execution_count": 101
  },
  {
   "metadata": {},
   "cell_type": "markdown",
   "source": "### 标准化",
   "id": "349d97a1714b67c4"
  },
  {
   "metadata": {
    "ExecuteTime": {
     "end_time": "2025-07-28T08:15:16.524355Z",
     "start_time": "2025-07-28T08:15:16.520133Z"
    }
   },
   "cell_type": "code",
   "source": [
    "def generate_end_date(start_date: datetime) -> datetime:\n",
    "    end_date = start_date + relativedelta(months=random.randint(1, 36))\n",
    "    return end_date"
   ],
   "id": "9b89277637eb730c",
   "outputs": [],
   "execution_count": 102
  },
  {
   "metadata": {
    "ExecuteTime": {
     "end_time": "2025-07-28T08:15:16.944822Z",
     "start_time": "2025-07-28T08:15:16.939819Z"
    }
   },
   "cell_type": "code",
   "source": [
    "def generate_date_interval() -> str:\n",
    "    start_year = random.randint(2000, 2020)\n",
    "    start_month = random.randint(1, 12)\n",
    "    start_date = datetime(start_year, start_month, 1)\n",
    "    end_date = generate_end_date(start_date)\n",
    "    start = start_date.strftime(\"%Y.%m\")\n",
    "    end = end_date.strftime(\"%Y.%m\")\n",
    "    interval = f\"{start}-{end}\"\n",
    "    return interval"
   ],
   "id": "b532fbcbdaec76d6",
   "outputs": [],
   "execution_count": 103
  },
  {
   "metadata": {
    "ExecuteTime": {
     "end_time": "2025-07-28T07:49:55.782308Z",
     "start_time": "2025-07-28T07:49:55.776783Z"
    }
   },
   "cell_type": "code",
   "source": "generate_date_interval()",
   "id": "148cfab190a0ac77",
   "outputs": [
    {
     "data": {
      "text/plain": [
       "'2015.09-2017.07'"
      ]
     },
     "execution_count": 63,
     "metadata": {},
     "output_type": "execute_result"
    }
   ],
   "execution_count": 63
  },
  {
   "metadata": {
    "ExecuteTime": {
     "end_time": "2025-07-28T08:19:19.363748Z",
     "start_time": "2025-07-28T08:19:19.356033Z"
    }
   },
   "cell_type": "code",
   "source": [
    "def process_resume(person_resume: str) -> str:\n",
    "    person_resume = person_resume.split(\" \", maxsplit=1)\n",
    "    if len(person_resume) == 1:\n",
    "        time = generate_date_interval()\n",
    "        return f\"{time} {person_resume[0]}\"\n",
    "\n",
    "    time, resume = person_resume\n",
    "    time = time.replace(\" \", \"\")\n",
    "    resume = resume.replace(\" \", \"\")\n",
    "    if match := re.match(r\"(\\d{4})\\.(\\d{2})-(.*)\", time):\n",
    "        # fix start\n",
    "        start_year = int(match.group(1))\n",
    "        start_month = int(match.group(2))\n",
    "        start_month = start_month if 0 < start_month < 12 else random.randint(1, 12)\n",
    "        start_date = datetime(start_year, start_month, 1)\n",
    "        if match1 := re.match(r\"(\\d{4})\\.(\\d{2})\", match.group(3)):\n",
    "            # fix end\n",
    "            end_year = int(match1.group(1))\n",
    "            end_month = int(match1.group(2))\n",
    "            end_month = end_month if 0 < end_month < 12 else random.randint(1, 12)\n",
    "            end_date = datetime(end_year, end_month, 1)\n",
    "        else:\n",
    "            end_date = generate_end_date(start_date)\n",
    "        time = f\"{start_date.strftime('%Y.%m')}-{end_date.strftime('%Y.%m')}\"\n",
    "    else:\n",
    "        time = generate_date_interval()\n",
    "    return f\"{time} {resume}\""
   ],
   "id": "271aa4728bbce62b",
   "outputs": [],
   "execution_count": 113
  },
  {
   "metadata": {
    "ExecuteTime": {
     "end_time": "2025-07-28T08:19:21.790366Z",
     "start_time": "2025-07-28T08:19:21.784995Z"
    }
   },
   "cell_type": "code",
   "source": "process_resume(\"至今 xxxx\")",
   "id": "ad0b334e3ef6a80b",
   "outputs": [
    {
     "data": {
      "text/plain": [
       "'2013.06-2014.08 xxxx'"
      ]
     },
     "execution_count": 114,
     "metadata": {},
     "output_type": "execute_result"
    }
   ],
   "execution_count": 114
  },
  {
   "metadata": {
    "ExecuteTime": {
     "end_time": "2025-07-28T08:19:23.038017Z",
     "start_time": "2025-07-28T08:19:23.026036Z"
    }
   },
   "cell_type": "code",
   "source": "process_resume(\"2017.00-至今 xxxx\")",
   "id": "fd05e41fb64485e4",
   "outputs": [
    {
     "data": {
      "text/plain": [
       "'2017.03-2017.10 xxxx'"
      ]
     },
     "execution_count": 115,
     "metadata": {},
     "output_type": "execute_result"
    }
   ],
   "execution_count": 115
  },
  {
   "metadata": {
    "ExecuteTime": {
     "end_time": "2025-07-28T08:19:23.702284Z",
     "start_time": "2025-07-28T08:19:23.696498Z"
    }
   },
   "cell_type": "code",
   "source": "process_resume(\"2017.02-2018.05 xxxx ssss\")",
   "id": "c52aebd45d6029aa",
   "outputs": [
    {
     "data": {
      "text/plain": [
       "'2017.02-2018.05 xxxxssss'"
      ]
     },
     "execution_count": 116,
     "metadata": {},
     "output_type": "execute_result"
    }
   ],
   "execution_count": 116
  },
  {
   "metadata": {
    "ExecuteTime": {
     "end_time": "2025-07-28T08:19:24.106460Z",
     "start_time": "2025-07-28T08:19:24.100703Z"
    }
   },
   "cell_type": "code",
   "source": "process_resume(\"xxxx\")",
   "id": "8a5794cace2f4cdf",
   "outputs": [
    {
     "data": {
      "text/plain": [
       "'2009.04-2009.08 xxxx'"
      ]
     },
     "execution_count": 117,
     "metadata": {},
     "output_type": "execute_result"
    }
   ],
   "execution_count": 117
  },
  {
   "metadata": {
    "ExecuteTime": {
     "end_time": "2025-07-28T08:19:24.827216Z",
     "start_time": "2025-07-28T08:19:24.821874Z"
    }
   },
   "cell_type": "code",
   "source": "process_resume(\"2017.00-2020.13 xxx\")",
   "id": "a17bb8cc70efdce0",
   "outputs": [
    {
     "data": {
      "text/plain": [
       "'2017.01-2020.03 xxx'"
      ]
     },
     "execution_count": 118,
     "metadata": {},
     "output_type": "execute_result"
    }
   ],
   "execution_count": 118
  },
  {
   "metadata": {
    "ExecuteTime": {
     "end_time": "2025-07-28T08:19:29.888030Z",
     "start_time": "2025-07-28T08:19:29.566971Z"
    }
   },
   "cell_type": "code",
   "source": [
    "for person in all_data:\n",
    "    for i in range(len(person[\"resumes\"])):\n",
    "        try:\n",
    "            person[\"resumes\"][i] = process_resume(person[\"resumes\"][i])\n",
    "        except Exception as e:\n",
    "            print(person)\n",
    "            print(e)"
   ],
   "id": "4f0fd804eb3e113c",
   "outputs": [],
   "execution_count": 119
  },
  {
   "metadata": {},
   "cell_type": "markdown",
   "source": "### 过滤",
   "id": "5c45063a2f4b34c2"
  },
  {
   "metadata": {
    "ExecuteTime": {
     "end_time": "2025-07-28T08:19:33.118933Z",
     "start_time": "2025-07-28T08:19:33.112092Z"
    }
   },
   "cell_type": "code",
   "source": [
    "all_data = [person for person in all_data if len(person[\"resumes\"]) >= 3]\n",
    "len(all_data)"
   ],
   "id": "c42d2743c7be39a0",
   "outputs": [
    {
     "data": {
      "text/plain": [
       "4153"
      ]
     },
     "execution_count": 120,
     "metadata": {},
     "output_type": "execute_result"
    }
   ],
   "execution_count": 120
  },
  {
   "metadata": {},
   "cell_type": "markdown",
   "source": "### 按起始时间排序",
   "id": "ca42b4597ea54c71"
  },
  {
   "metadata": {
    "ExecuteTime": {
     "end_time": "2025-07-28T08:06:06.922301Z",
     "start_time": "2025-07-28T08:06:06.918038Z"
    }
   },
   "cell_type": "code",
   "source": [
    "def datetime_key(resume: str) -> datetime:\n",
    "    start_date = resume.split(\"-\")[0]\n",
    "    return datetime.strptime(start_date, \"%Y.%m\")"
   ],
   "id": "2222eea63198e065",
   "outputs": [],
   "execution_count": 92
  },
  {
   "metadata": {
    "ExecuteTime": {
     "end_time": "2025-07-28T08:19:39.701342Z",
     "start_time": "2025-07-28T08:19:39.517298Z"
    }
   },
   "cell_type": "code",
   "source": [
    "for person in all_data:\n",
    "    try:\n",
    "        person[\"resumes\"] = sorted(person[\"resumes\"], key=datetime_key)\n",
    "    except:\n",
    "        print(person)"
   ],
   "id": "396f0a086d1c5b5f",
   "outputs": [],
   "execution_count": 121
  },
  {
   "metadata": {},
   "cell_type": "markdown",
   "source": "### 输出",
   "id": "d92369f16a5cff6a"
  },
  {
   "metadata": {
    "ExecuteTime": {
     "end_time": "2025-07-28T08:19:45.385992Z",
     "start_time": "2025-07-28T08:19:45.329511Z"
    }
   },
   "cell_type": "code",
   "source": "json.dump(all_data, open(sub_dir / \"samples.json\", \"w\", encoding=\"utf-8\"), ensure_ascii=False, indent=2)",
   "id": "4032014c88c5796a",
   "outputs": [],
   "execution_count": 122
  },
  {
   "metadata": {},
   "cell_type": "markdown",
   "source": "## 划分数据集",
   "id": "cc19ea5835200ccf"
  },
  {
   "metadata": {
    "ExecuteTime": {
     "end_time": "2025-07-28T07:24:18.769662Z",
     "start_time": "2025-07-28T07:24:16.188534Z"
    }
   },
   "cell_type": "code",
   "source": "from sklearn.model_selection import train_test_split",
   "id": "32c904b1ea6c36a1",
   "outputs": [],
   "execution_count": 50
  },
  {
   "metadata": {
    "ExecuteTime": {
     "end_time": "2025-07-28T08:20:09.814492Z",
     "start_time": "2025-07-28T08:20:09.787614Z"
    }
   },
   "cell_type": "code",
   "source": [
    "data = json.load(open(sub_dir / \"samples.json\", \"r\", encoding=\"utf-8\"))\n",
    "len(data)"
   ],
   "id": "fc2fe627a3105323",
   "outputs": [
    {
     "data": {
      "text/plain": [
       "4153"
      ]
     },
     "execution_count": 123,
     "metadata": {},
     "output_type": "execute_result"
    }
   ],
   "execution_count": 123
  },
  {
   "metadata": {
    "ExecuteTime": {
     "end_time": "2025-07-28T08:20:11.702674Z",
     "start_time": "2025-07-28T08:20:11.698666Z"
    }
   },
   "cell_type": "code",
   "source": "seed = 200",
   "id": "64701b7e2aabb922",
   "outputs": [],
   "execution_count": 124
  },
  {
   "metadata": {
    "ExecuteTime": {
     "end_time": "2025-07-28T08:20:12.409143Z",
     "start_time": "2025-07-28T08:20:12.388521Z"
    }
   },
   "cell_type": "code",
   "source": [
    "train, test = train_test_split(data, train_size=0.8, shuffle=True, random_state=seed)\n",
    "len(train), len(test)"
   ],
   "id": "58a214306c41ee9",
   "outputs": [
    {
     "data": {
      "text/plain": [
       "(3322, 831)"
      ]
     },
     "execution_count": 125,
     "metadata": {},
     "output_type": "execute_result"
    }
   ],
   "execution_count": 125
  },
  {
   "metadata": {
    "ExecuteTime": {
     "end_time": "2025-07-28T08:20:13.927042Z",
     "start_time": "2025-07-28T08:20:13.882835Z"
    }
   },
   "cell_type": "code",
   "source": "json.dump(train, open(sub_dir / \"train.json\", \"w\", encoding=\"utf-8\"), ensure_ascii=False, indent=2)",
   "id": "dea1b957e315879e",
   "outputs": [],
   "execution_count": 126
  },
  {
   "metadata": {
    "ExecuteTime": {
     "end_time": "2025-07-28T08:20:14.272306Z",
     "start_time": "2025-07-28T08:20:14.257241Z"
    }
   },
   "cell_type": "code",
   "source": "json.dump(test, open(sub_dir / \"test.json\", \"w\", encoding=\"utf-8\"), ensure_ascii=False, indent=2)",
   "id": "7f4981f6352edc76",
   "outputs": [],
   "execution_count": 127
  },
  {
   "metadata": {},
   "cell_type": "code",
   "outputs": [],
   "execution_count": null,
   "source": "",
   "id": "f926da342570e4a6"
  }
 ],
 "metadata": {
  "kernelspec": {
   "display_name": "Python 3",
   "language": "python",
   "name": "python3"
  },
  "language_info": {
   "codemirror_mode": {
    "name": "ipython",
    "version": 2
   },
   "file_extension": ".py",
   "mimetype": "text/x-python",
   "name": "python",
   "nbconvert_exporter": "python",
   "pygments_lexer": "ipython2",
   "version": "2.7.6"
  }
 },
 "nbformat": 4,
 "nbformat_minor": 5
}
