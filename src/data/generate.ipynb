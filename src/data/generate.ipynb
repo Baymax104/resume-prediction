{
 "cells": [
  {
   "cell_type": "code",
   "id": "initial_id",
   "metadata": {
    "collapsed": true,
    "ExecuteTime": {
     "end_time": "2025-07-27T07:58:14.200698Z",
     "start_time": "2025-07-27T07:58:14.192363Z"
    }
   },
   "source": [
    "import json\n",
    "from pathlib import Path\n",
    "from uuid import uuid4\n",
    "\n",
    "import json_repair"
   ],
   "outputs": [],
   "execution_count": 50
  },
  {
   "metadata": {
    "ExecuteTime": {
     "end_time": "2025-07-27T07:58:14.906952Z",
     "start_time": "2025-07-27T07:58:14.897566Z"
    }
   },
   "cell_type": "code",
   "source": [
    "sub_dir = Path(\"../../data\") / \"resume\"\n",
    "sub_dir.mkdir()"
   ],
   "id": "c9cb32126ff9d8ce",
   "outputs": [],
   "execution_count": 51
  },
  {
   "metadata": {},
   "cell_type": "markdown",
   "source": "## 生成prompt文件",
   "id": "1367474193be168c"
  },
  {
   "metadata": {
    "ExecuteTime": {
     "end_time": "2025-07-27T07:58:17.265633Z",
     "start_time": "2025-07-27T07:58:17.250672Z"
    }
   },
   "cell_type": "code",
   "source": [
    "with open(\"../../data/resume_data.txt\", \"r\", encoding=\"utf-8\") as f:\n",
    "    texts = f.readlines()\n",
    "len(texts)"
   ],
   "id": "8e8239b264ef7d92",
   "outputs": [
    {
     "data": {
      "text/plain": [
       "4679"
      ]
     },
     "execution_count": 52,
     "metadata": {},
     "output_type": "execute_result"
    }
   ],
   "execution_count": 52
  },
  {
   "metadata": {
    "ExecuteTime": {
     "end_time": "2025-07-27T07:58:19.193018Z",
     "start_time": "2025-07-27T07:58:19.187617Z"
    }
   },
   "cell_type": "code",
   "source": [
    "system_prompt = r\"\"\"\n",
    "## 任务描述\n",
    "你需要浏览每一条人员简历，根据简历中人员的在职时间和职位名称构造人员职位晋升数据集，不要回答用户问题\n",
    "对于其中不明确的部分，你必须进行编造，保证你的回答符合输出格式\n",
    "每个人员的简历中，必须包含起始年月，职位名称中必须包含完整的公司名称和职位名称\n",
    "\n",
    "## 输出格式\n",
    "[\n",
    "  {{\n",
    "    \"name\": \"<姓名>\",\n",
    "    \"resumes\": [\n",
    "      \"<在职起始年月，格式YYYY.mm-YYYY-mm> <职位全称>\",\n",
    "      ...\n",
    "    ]\n",
    "  }},\n",
    "  ...\n",
    "]\n",
    "\n",
    "# 输出示例\n",
    "{{\n",
    "  \"name\": \"张明\",\n",
    "  \"resumes\": [\n",
    "    \"2010.07-2015.03 上海市徐汇区发改委科员\",\n",
    "    \"2015.04-2018.06 上海市徐汇区发改委副主任\",\n",
    "    \"2018.07-2021.11 上海市虹口区政府办公室主任\",\n",
    "    \"2021.12-至今 上海市虹口区副区长\"\n",
    "  ]\n",
    "}}\n",
    "\n",
    "# 人员简历\n",
    "{}\n",
    "\"\"\""
   ],
   "id": "3669490cf4efd2b0",
   "outputs": [],
   "execution_count": 53
  },
  {
   "metadata": {
    "ExecuteTime": {
     "end_time": "2025-07-27T07:58:20.059837Z",
     "start_time": "2025-07-27T07:58:20.055819Z"
    }
   },
   "cell_type": "code",
   "source": "batch_size = 3",
   "id": "8055dbfee8cc1dda",
   "outputs": [],
   "execution_count": 54
  },
  {
   "metadata": {
    "ExecuteTime": {
     "end_time": "2025-07-27T07:58:21.781062Z",
     "start_time": "2025-07-27T07:58:21.766304Z"
    }
   },
   "cell_type": "code",
   "source": [
    "batch_texts = [texts[i:i + batch_size] for i in range(0, len(texts), batch_size)]\n",
    "batch_prompt = [system_prompt.format(\"\\n\".join(f\"- {text}\" for text in batch)) for batch in batch_texts]\n",
    "len(batch_prompt)"
   ],
   "id": "ed981f58c604130",
   "outputs": [
    {
     "data": {
      "text/plain": [
       "1560"
      ]
     },
     "execution_count": 55,
     "metadata": {},
     "output_type": "execute_result"
    }
   ],
   "execution_count": 55
  },
  {
   "metadata": {
    "ExecuteTime": {
     "end_time": "2025-07-27T07:58:39.816988Z",
     "start_time": "2025-07-27T07:58:39.795143Z"
    }
   },
   "cell_type": "code",
   "source": [
    "tasks = [\n",
    "    {\n",
    "        \"custom_id\": str(uuid4()).replace(\"-\", \"\"),\n",
    "        \"method\": \"POST\",\n",
    "        \"url\": \"/v4/chat/completions\",\n",
    "        \"body\": {\n",
    "            \"model\": \"glm-4-flash\",\n",
    "            \"messages\": [{\"role\": \"user\", \"content\": p}],\n",
    "            \"temperature\": 0.5\n",
    "        }\n",
    "    }\n",
    "    for p in batch_prompt\n",
    "]"
   ],
   "id": "9dd5b12c0fecde9e",
   "outputs": [],
   "execution_count": 56
  },
  {
   "metadata": {
    "ExecuteTime": {
     "end_time": "2025-07-27T07:58:42.680618Z",
     "start_time": "2025-07-27T07:58:42.621619Z"
    }
   },
   "cell_type": "code",
   "source": [
    "with open(sub_dir / \"resume_data.jsonl\", \"w\", encoding=\"utf-8\") as f:\n",
    "    for task in tasks:\n",
    "        f.write(json.dumps(task, ensure_ascii=False) + \"\\n\")"
   ],
   "id": "92daa28ac7264cf9",
   "outputs": [],
   "execution_count": 57
  },
  {
   "metadata": {},
   "cell_type": "markdown",
   "source": "## 处理结果文件",
   "id": "8d1bc65999f3803"
  },
  {
   "metadata": {
    "ExecuteTime": {
     "end_time": "2025-07-27T11:21:57.586116Z",
     "start_time": "2025-07-27T11:21:57.564189Z"
    }
   },
   "cell_type": "code",
   "source": [
    "def loader():\n",
    "    with open(sub_dir / \"output.jsonl\", \"r\", encoding=\"utf-8\") as f:\n",
    "        for line in f:\n",
    "            data = json_repair.loads(line)\n",
    "            yield data"
   ],
   "id": "159b3c047457bf45",
   "outputs": [],
   "execution_count": 58
  },
  {
   "metadata": {
    "ExecuteTime": {
     "end_time": "2025-07-27T11:22:01.895218Z",
     "start_time": "2025-07-27T11:22:01.809154Z"
    }
   },
   "cell_type": "code",
   "source": [
    "all_data = []\n",
    "for data in loader():\n",
    "    data = json_repair.loads(data[\"response\"][\"body\"][\"choices\"][0][\"message\"][\"content\"])\n",
    "    all_data.extend(data)\n",
    "len(all_data)"
   ],
   "id": "8d85b0ea452acfe5",
   "outputs": [
    {
     "data": {
      "text/plain": [
       "4680"
      ]
     },
     "execution_count": 59,
     "metadata": {},
     "output_type": "execute_result"
    }
   ],
   "execution_count": 59
  },
  {
   "metadata": {
    "ExecuteTime": {
     "end_time": "2025-07-27T11:22:03.429358Z",
     "start_time": "2025-07-27T11:22:03.417422Z"
    }
   },
   "cell_type": "code",
   "source": "all_data[0]",
   "id": "e020770c2745a6ae",
   "outputs": [
    {
     "data": {
      "text/plain": [
       "{'name': '周文香', 'resumes': ['1989.09-2008.10 个体工商户', '2008.11-2016.03 有限公司监事']}"
      ]
     },
     "execution_count": 60,
     "metadata": {},
     "output_type": "execute_result"
    }
   ],
   "execution_count": 60
  },
  {
   "metadata": {
    "ExecuteTime": {
     "end_time": "2025-07-27T11:22:10.622430Z",
     "start_time": "2025-07-27T11:22:10.563904Z"
    }
   },
   "cell_type": "code",
   "source": "json.dump(all_data, open(sub_dir / \"samples.json\", \"w\", encoding=\"utf-8\"), ensure_ascii=False, indent=2)",
   "id": "4032014c88c5796a",
   "outputs": [],
   "execution_count": 61
  },
  {
   "metadata": {},
   "cell_type": "code",
   "outputs": [],
   "execution_count": null,
   "source": "",
   "id": "693d4b02dd5c8fbd"
  }
 ],
 "metadata": {
  "kernelspec": {
   "display_name": "Python 3",
   "language": "python",
   "name": "python3"
  },
  "language_info": {
   "codemirror_mode": {
    "name": "ipython",
    "version": 2
   },
   "file_extension": ".py",
   "mimetype": "text/x-python",
   "name": "python",
   "nbconvert_exporter": "python",
   "pygments_lexer": "ipython2",
   "version": "2.7.6"
  }
 },
 "nbformat": 4,
 "nbformat_minor": 5
}
